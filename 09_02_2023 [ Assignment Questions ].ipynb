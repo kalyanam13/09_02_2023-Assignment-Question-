{
 "cells": [
  {
   "cell_type": "markdown",
   "id": "6d89f43d",
   "metadata": {},
   "source": [
    "# PW Skills [ ASSIGNMENT QUESTIONS ]"
   ]
  },
  {
   "cell_type": "markdown",
   "id": "32ecee24",
   "metadata": {},
   "source": [
    "### Question no.1: Create a vehicle class with an init method having instance variables as name_of_vehicle , max_speed and average_of_vehicle.\n",
    "### Answer:"
   ]
  },
  {
   "cell_type": "code",
   "execution_count": 3,
   "id": "69d328f1",
   "metadata": {},
   "outputs": [],
   "source": [
    "class vehicle:\n",
    "    \n",
    "    def __init__(self,name_of_vehicle,max_speed,average_of_vehicle):\n",
    "        self.name_of_vehicle = name_of_vehicle\n",
    "        self.max_speed = max_speed\n",
    "        self.average_of_vehicle = average_of_vehicle\n",
    "        \n",
    "    def details_of_vehicle(self):\n",
    "        return details_of_vehicle"
   ]
  },
  {
   "cell_type": "code",
   "execution_count": 5,
   "id": "0bcd1ab7",
   "metadata": {},
   "outputs": [],
   "source": [
    "details = vehicle(\"toyotta\",154,24)"
   ]
  },
  {
   "cell_type": "code",
   "execution_count": 6,
   "id": "d83e8ff9",
   "metadata": {},
   "outputs": [
    {
     "data": {
      "text/plain": [
       "'toyotta'"
      ]
     },
     "execution_count": 6,
     "metadata": {},
     "output_type": "execute_result"
    }
   ],
   "source": [
    "details.name_of_vehicle"
   ]
  },
  {
   "cell_type": "code",
   "execution_count": 7,
   "id": "971b0a69",
   "metadata": {},
   "outputs": [
    {
     "data": {
      "text/plain": [
       "154"
      ]
     },
     "execution_count": 7,
     "metadata": {},
     "output_type": "execute_result"
    }
   ],
   "source": [
    "details.max_speed"
   ]
  },
  {
   "cell_type": "code",
   "execution_count": 8,
   "id": "d483c783",
   "metadata": {},
   "outputs": [
    {
     "data": {
      "text/plain": [
       "24"
      ]
     },
     "execution_count": 8,
     "metadata": {},
     "output_type": "execute_result"
    }
   ],
   "source": [
    "details.average_of_vehicle"
   ]
  },
  {
   "cell_type": "markdown",
   "id": "715d32ac",
   "metadata": {},
   "source": [
    "### Question no.2: Create a child class car from the vehicle class created in Que1, which will inherit the vehicle class.Create a method named seating_capacity which takes capacity as an argument and returns the name of the vehicle and its seating capacity.\n",
    "### Answer:"
   ]
  },
  {
   "cell_type": "code",
   "execution_count": 58,
   "id": "f341b4bc",
   "metadata": {},
   "outputs": [],
   "source": [
    "class vehicle:\n",
    "    \n",
    "    def __init__(self,name_of_vehicle,max_speed,average_of_vehicle):\n",
    "        self.name_of_vehicle = name_of_vehicle\n",
    "        self.max_speed = max_speed\n",
    "        self.average_of_vehicle = average_of_vehicle\n",
    "        \n",
    "    "
   ]
  },
  {
   "cell_type": "code",
   "execution_count": 60,
   "id": "80a2decb",
   "metadata": {},
   "outputs": [],
   "source": [
    "car = vehicle(\"toyotta\",154,24)"
   ]
  },
  {
   "cell_type": "code",
   "execution_count": 62,
   "id": "9bd473f2",
   "metadata": {},
   "outputs": [
    {
     "name": "stdout",
     "output_type": "stream",
     "text": [
      "toyotta\n",
      "154\n",
      "24\n"
     ]
    }
   ],
   "source": [
    "print(car.name_of_vehicle)\n",
    "print(car.max_speed)\n",
    "print(car.average_of_vehicle)"
   ]
  },
  {
   "cell_type": "code",
   "execution_count": 70,
   "id": "6ce7794c",
   "metadata": {},
   "outputs": [],
   "source": [
    "class Car(vehicle):\n",
    "    def seating_capacity(self,capacity):\n",
    "        return f\"{self.name_of_vehicle} has the seating capacity {capacity}.\""
   ]
  },
  {
   "cell_type": "code",
   "execution_count": 71,
   "id": "6090cf1b",
   "metadata": {},
   "outputs": [
    {
     "name": "stdout",
     "output_type": "stream",
     "text": [
      "toyotta has the seating capacity 4.\n"
     ]
    }
   ],
   "source": [
    "car = Car(\"toyotta\",154,24)\n",
    "print(car.seating_capacity(4))"
   ]
  },
  {
   "cell_type": "markdown",
   "id": "57a50f63",
   "metadata": {},
   "source": [
    "### Question no.3: What is multiple inheritance ? write a python code to demonstrate multiple inheritance.\n",
    "### Answer:Multiple inheritance is a feature in object-oriented programming languages that allows a class to inherit from more than one parent class. This means that a child class can inherit attributes and methods from multiple parent classes.\n",
    "\n",
    "### Here is an example Python code that demonstrates multiple inheritance:"
   ]
  },
  {
   "cell_type": "code",
   "execution_count": 3,
   "id": "ee408032",
   "metadata": {},
   "outputs": [
    {
     "name": "stdout",
     "output_type": "stream",
     "text": [
      "Perry is eating.\n",
      "Orinthorhynchus is laying eggs.\n",
      "Orinthorhynchus is giving birth.\n"
     ]
    }
   ],
   "source": [
    "class Animal:\n",
    "    \n",
    "    def __init__(self,name):\n",
    "        self.name = name\n",
    "        \n",
    "    def eat(self):\n",
    "        print(f\"{self.name} is eating.\")\n",
    "        \n",
    "class Mammal:\n",
    "    \n",
    "    def __init__(self,species):\n",
    "        self.species = species\n",
    "        \n",
    "    def give_birth(self):\n",
    "        print(f\"{self.species} is giving birth.\")\n",
    "        \n",
    "class platypus(Animal,Mammal):\n",
    "    def __init__(self,name,species):\n",
    "        Animal.__init__(self,name)\n",
    "        Mammal.__init__(self,species)\n",
    "        \n",
    "    def lay_eggs(self):\n",
    "        print(f\"{self.species} is laying eggs.\")\n",
    "    \n",
    "perry = platypus(\"Perry\",\"Orinthorhynchus\")\n",
    "perry.eat()\n",
    "perry.lay_eggs()\n",
    "perry.give_birth()"
   ]
  },
  {
   "cell_type": "markdown",
   "id": "61aa761a",
   "metadata": {},
   "source": [
    "### Question no.4: What are getter and setter in python ? Create a class and create a getter and a setter method in this class.\n",
    "### Animal:In Python, getters and setters are used to access and modify the private attributes of a class. Private attributes are attributes that are intended to be hidden from the user or other parts of the program.\n",
    "\n",
    "### Getters and setters are methods that allow us to access and modify these private attributes. A getter method is used to retrieve the value of a private attribute, while a setter method is used to set or modify the value of a private attribute.\n",
    "\n",
    "### Here is an example class with a private attribute and getter and setter methods:"
   ]
  },
  {
   "cell_type": "code",
   "execution_count": 1,
   "id": "aa76dcb0",
   "metadata": {},
   "outputs": [],
   "source": [
    "class Person:\n",
    "    \n",
    "    def __init__(self,name):\n",
    "        self.__name = name\n",
    "        \n",
    "    def get_name(self):\n",
    "        return self.__name\n",
    "    \n",
    "    def set_name(self,name):\n",
    "        self.__name = name"
   ]
  },
  {
   "cell_type": "code",
   "execution_count": 2,
   "id": "200e5c95",
   "metadata": {},
   "outputs": [
    {
     "name": "stdout",
     "output_type": "stream",
     "text": [
      "Jordan\n"
     ]
    }
   ],
   "source": [
    "person = Person(\"Jordan\")\n",
    "print(person.get_name())"
   ]
  },
  {
   "cell_type": "code",
   "execution_count": 3,
   "id": "2eb31648",
   "metadata": {},
   "outputs": [
    {
     "name": "stdout",
     "output_type": "stream",
     "text": [
      "Alice\n"
     ]
    }
   ],
   "source": [
    "person.set_name(\"Alice\")\n",
    "print(person.get_name())"
   ]
  },
  {
   "cell_type": "markdown",
   "id": "b072f962",
   "metadata": {},
   "source": [
    "### Question no.5: What is method overriding in python? Write a python code to demonstrate method overriding.\n",
    "### Answer:Method overriding is a feature of object-oriented programming where a subclass provides its own implementation of a method that is already defined in its superclass. The subclass can provide a different implementation of the method that has the same name and signature as the method in the superclass.\n",
    "\n",
    "### Here's an example of method overriding in Python:"
   ]
  },
  {
   "cell_type": "code",
   "execution_count": 11,
   "id": "9e27c212",
   "metadata": {},
   "outputs": [
    {
     "name": "stdout",
     "output_type": "stream",
     "text": [
      "The animal makes a sound.\n",
      "Meow!\n",
      "woof!\n"
     ]
    }
   ],
   "source": [
    "class Animal:\n",
    "    def make_sound(self):\n",
    "        print(\"The animal makes a sound.\")\n",
    "        \n",
    "class cat(Animal):\n",
    "    def make_sound(self):\n",
    "        print(\"Meow!\")\n",
    "        \n",
    "class dog(Animal):\n",
    "    def make_sound(self):\n",
    "        print(\"woof!\")\n",
    "        \n",
    "animal = Animal()\n",
    "Cat = cat()\n",
    "Dog = dog()\n",
    "\n",
    "animal.make_sound()\n",
    "Cat.make_sound()\n",
    "Dog.make_sound()"
   ]
  },
  {
   "cell_type": "markdown",
   "id": "8f554974",
   "metadata": {},
   "source": [
    "### In this example, we have a superclass Animal with a method make_sound that prints a generic sound. We then have two subclasses Cat and Dog that inherit from the Animal class. Both subclasses provide their own implementation of the make_sound method that overrides the implementation in the Animal class.\n",
    "\n",
    "### When we create instances of the Animal, Cat, and Dog classes and call the make_sound method on each instance, we get different outputs depending on the implementation provided by the subclass. The Animal instance uses the implementation provided by the superclass, while the Cat and Dog instances use the implementation provided by their respective subclasses. This demonstrates the concept of method overriding."
   ]
  },
  {
   "cell_type": "code",
   "execution_count": null,
   "id": "56ed14bf",
   "metadata": {},
   "outputs": [],
   "source": []
  },
  {
   "cell_type": "code",
   "execution_count": null,
   "id": "babba9f0",
   "metadata": {},
   "outputs": [],
   "source": []
  }
 ],
 "metadata": {
  "kernelspec": {
   "display_name": "Python 3 (ipykernel)",
   "language": "python",
   "name": "python3"
  },
  "language_info": {
   "codemirror_mode": {
    "name": "ipython",
    "version": 3
   },
   "file_extension": ".py",
   "mimetype": "text/x-python",
   "name": "python",
   "nbconvert_exporter": "python",
   "pygments_lexer": "ipython3",
   "version": "3.9.13"
  }
 },
 "nbformat": 4,
 "nbformat_minor": 5
}
